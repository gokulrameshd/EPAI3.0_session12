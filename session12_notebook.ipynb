{
 "cells": [
  {
   "cell_type": "markdown",
   "metadata": {},
   "source": [
    "##### Goal 1\n",
    "\n",
    "Refactor the `Polygon` class so that all the calculated properties are lazy properties, i.e. they should still be calculated properties, but they should not have to get recalculated more than once (since we made our `Polygon` class \"immutable\")."
   ]
  },
  {
   "cell_type": "code",
   "execution_count": 6,
   "metadata": {},
   "outputs": [],
   "source": [
    "import math\n",
    "\n",
    "class Polygon:\n",
    "    def __init__(self, n, R):\n",
    "        if n < 3:\n",
    "            raise ValueError('Polygon must have at least 3 vertices.')\n",
    "        self._n = n\n",
    "        self._R = R\n",
    "        self._area = None\n",
    "        self._interior_angle = None\n",
    "        self._apothem = None\n",
    "        self._side_length = None\n",
    "        self._perimeter = None\n",
    "    def __repr__(self):\n",
    "        return f'Polygon(n={self._n}, R={self._R})'\n",
    "    \n",
    "    @property\n",
    "    def count_vertices(self):\n",
    "        return self._n\n",
    "    \n",
    "    @property\n",
    "    def count_edges(self):\n",
    "        return self._n\n",
    "    \n",
    "    @property\n",
    "    def circumradius(self):\n",
    "        return self._R\n",
    "    \n",
    "    @property\n",
    "    def interior_angle(self):\n",
    "        if self._interior_angle == None :\n",
    "            print(\"interior angle calculated!!\")\n",
    "            self._interior_angle = (self._n - 2) * 180 / self._n\n",
    "            return self._interior_angle\n",
    "        else :\n",
    "            return _interior_angle\n",
    "    @property\n",
    "    def side_length(self):\n",
    "        if self._side_length == None :\n",
    "            print(\"side length calculated!!\")\n",
    "            self._side_length = 2 * self._R * math.sin(math.pi / self._n)\n",
    "            return self._side_length\n",
    "        else:\n",
    "            return self._side_length\n",
    "    \n",
    "    @property\n",
    "    def apothem(self):\n",
    "        if self._apothem == None : \n",
    "            print(\"apothem calculated!!\")\n",
    "            self._apothem = self._R * math.cos(math.pi / self._n)\n",
    "            return self._apothem\n",
    "        else : \n",
    "            return self._apothem\n",
    "    \n",
    "    @property\n",
    "    def area(self):\n",
    "        if self._area == None:\n",
    "            print(\"area calculated!!\")\n",
    "            self._area = self._n / 2 * self.side_length * self.apothem\n",
    "            return self._area\n",
    "        else :\n",
    "            return self._area\n",
    "    \n",
    "    @property\n",
    "    def perimeter(self):\n",
    "        if self._perimeter == None:\n",
    "            print(\"perimeter calculated!!\")\n",
    "            self._perimeter = self._n * self.side_length\n",
    "            return self._perimeter\n",
    "        else:\n",
    "            return self._perimeter\n",
    "    def __eq__(self, other):\n",
    "        if isinstance(other, self.__class__):\n",
    "            return (self.count_edges == other.count_edges \n",
    "                    and self.circumradius == other.circumradius)\n",
    "        else:\n",
    "            return NotImplemented\n",
    "        \n",
    "    def __gt__(self, other):\n",
    "        if isinstance(other, self.__class__):\n",
    "            return self.count_vertices > other.count_vertices\n",
    "        else:\n",
    "            return NotImplemented"
   ]
  },
  {
   "cell_type": "code",
   "execution_count": 7,
   "metadata": {},
   "outputs": [],
   "source": [
    "p = Polygon(5,5)"
   ]
  },
  {
   "cell_type": "code",
   "execution_count": 8,
   "metadata": {},
   "outputs": [
    {
     "data": {
      "text/plain": [
       "Polygon(n=5, R=5)"
      ]
     },
     "execution_count": 8,
     "metadata": {},
     "output_type": "execute_result"
    }
   ],
   "source": [
    "p"
   ]
  },
  {
   "cell_type": "code",
   "execution_count": 9,
   "metadata": {},
   "outputs": [
    {
     "name": "stdout",
     "output_type": "stream",
     "text": [
      "area calculated!!\n",
      "side length calculated!!\n",
      "apothem calculated!!\n"
     ]
    },
    {
     "data": {
      "text/plain": [
       "59.44103226844711"
      ]
     },
     "execution_count": 9,
     "metadata": {},
     "output_type": "execute_result"
    }
   ],
   "source": [
    "p.area # Lazy iteration"
   ]
  },
  {
   "cell_type": "code",
   "execution_count": 10,
   "metadata": {},
   "outputs": [],
   "source": [
    "p._R = 100"
   ]
  },
  {
   "cell_type": "code",
   "execution_count": 11,
   "metadata": {},
   "outputs": [
    {
     "data": {
      "text/plain": [
       "59.44103226844711"
      ]
     },
     "execution_count": 11,
     "metadata": {},
     "output_type": "execute_result"
    }
   ],
   "source": [
    "p.area"
   ]
  },
  {
   "cell_type": "markdown",
   "metadata": {},
   "source": [
    "Though the radius is modified , The area is not calculated again."
   ]
  },
  {
   "cell_type": "code",
   "execution_count": 12,
   "metadata": {},
   "outputs": [
    {
     "ename": "AttributeError",
     "evalue": "can't set attribute",
     "output_type": "error",
     "traceback": [
      "\u001b[1;31m---------------------------------------------------------------------------\u001b[0m",
      "\u001b[1;31mAttributeError\u001b[0m                            Traceback (most recent call last)",
      "\u001b[1;32m<ipython-input-12-156cd57dfdf8>\u001b[0m in \u001b[0;36m<module>\u001b[1;34m()\u001b[0m\n\u001b[1;32m----> 1\u001b[1;33m \u001b[0mp\u001b[0m\u001b[1;33m.\u001b[0m\u001b[0marea\u001b[0m \u001b[1;33m=\u001b[0m \u001b[1;36m233\u001b[0m\u001b[1;33m\u001b[0m\u001b[0m\n\u001b[0m",
      "\u001b[1;31mAttributeError\u001b[0m: can't set attribute"
     ]
    }
   ],
   "source": [
    "p.area = 233"
   ]
  },
  {
   "cell_type": "markdown",
   "metadata": {},
   "source": [
    "##### Goal 2\n",
    "\n",
    "Refactor the `Polygons` (sequence) type, into an **iterable**. Make sure also that the elements in the iterator are computed lazily - i.e. you can no longer use a list as an underlying storage mechanism for your polygons.\n",
    "\n",
    "You'll need to implement both an iterable, and an iterator."
   ]
  },
  {
   "cell_type": "code",
   "execution_count": 18,
   "metadata": {},
   "outputs": [],
   "source": [
    "class Polygons: \n",
    "    \"Iterable Class\"\n",
    "    def __init__(self, m, R):\n",
    "        self._m = m-2\n",
    "        self._R = R\n",
    "    def __len__(self):\n",
    "        return self._m \n",
    "\n",
    "    def __getitem__(self, i):\n",
    "        print(i)\n",
    "        if i+3 >= self._m:\n",
    "            raise StopIteration\n",
    "        else:\n",
    "#             [Polygon(i, R) for i in range(3, m+1)]\n",
    "            print(self._m,Polygon(i+3 ,self._R))\n",
    "            return Polygon(i+3 ,self._R)\n",
    "class PolygonsIterator:\n",
    "    \"Iterator class\"\n",
    "    def __init__(self, m, R):\n",
    "        self._polygons = Polygons(m ,R)\n",
    "        print(len(self._polygons))\n",
    "        self._i = 0\n",
    "        \n",
    "    def __iter__(self):\n",
    "        return self\n",
    "    \n",
    "    def __next__(self):\n",
    "        if self._i >= len(self._polygons):\n",
    "            raise StopIteration\n",
    "        else:\n",
    "            result = self._polygons[self._i]\n",
    "            self._i += 1\n",
    "            return result\n",
    "    @property\n",
    "    def max_efficiency_polygon(self):\n",
    "        sorted_polygons = sorted(self._polygons, \n",
    "                                 key=lambda p: p.area/p.perimeter,\n",
    "                                reverse=True)\n",
    "        return sorted_polygons[0]\n",
    "    \n"
   ]
  },
  {
   "cell_type": "code",
   "execution_count": 19,
   "metadata": {},
   "outputs": [
    {
     "name": "stdout",
     "output_type": "stream",
     "text": [
      "13\n",
      "0\n",
      "13 Polygon(n=3, R=15)\n",
      "1\n",
      "13 Polygon(n=4, R=15)\n",
      "2\n",
      "13 Polygon(n=5, R=15)\n",
      "3\n",
      "13 Polygon(n=6, R=15)\n",
      "4\n",
      "13 Polygon(n=7, R=15)\n",
      "5\n",
      "13 Polygon(n=8, R=15)\n",
      "6\n",
      "13 Polygon(n=9, R=15)\n",
      "7\n",
      "13 Polygon(n=10, R=15)\n",
      "8\n",
      "13 Polygon(n=11, R=15)\n",
      "9\n",
      "13 Polygon(n=12, R=15)\n",
      "10\n",
      "area calculated!!\n",
      "side length calculated!!\n",
      "apothem calculated!!\n",
      "perimeter calculated!!\n",
      "area calculated!!\n",
      "side length calculated!!\n",
      "apothem calculated!!\n",
      "perimeter calculated!!\n",
      "area calculated!!\n",
      "side length calculated!!\n",
      "apothem calculated!!\n",
      "perimeter calculated!!\n",
      "area calculated!!\n",
      "side length calculated!!\n",
      "apothem calculated!!\n",
      "perimeter calculated!!\n",
      "area calculated!!\n",
      "side length calculated!!\n",
      "apothem calculated!!\n",
      "perimeter calculated!!\n",
      "area calculated!!\n",
      "side length calculated!!\n",
      "apothem calculated!!\n",
      "perimeter calculated!!\n",
      "area calculated!!\n",
      "side length calculated!!\n",
      "apothem calculated!!\n",
      "perimeter calculated!!\n",
      "area calculated!!\n",
      "side length calculated!!\n",
      "apothem calculated!!\n",
      "perimeter calculated!!\n",
      "area calculated!!\n",
      "side length calculated!!\n",
      "apothem calculated!!\n",
      "perimeter calculated!!\n",
      "area calculated!!\n",
      "side length calculated!!\n",
      "apothem calculated!!\n",
      "perimeter calculated!!\n"
     ]
    },
    {
     "data": {
      "text/plain": [
       "Polygon(n=12, R=15)"
      ]
     },
     "execution_count": 19,
     "metadata": {},
     "output_type": "execute_result"
    }
   ],
   "source": [
    "pp = PolygonsIterator(15,15)\n",
    "pp.max_efficiency_polygon"
   ]
  },
  {
   "cell_type": "code",
   "execution_count": 20,
   "metadata": {},
   "outputs": [
    {
     "name": "stdout",
     "output_type": "stream",
     "text": [
      "0\n",
      "13 Polygon(n=3, R=15)\n",
      "1\n",
      "13 Polygon(n=4, R=15)\n",
      "2\n",
      "13 Polygon(n=5, R=15)\n",
      "3\n",
      "13 Polygon(n=6, R=15)\n",
      "4\n",
      "13 Polygon(n=7, R=15)\n",
      "5\n",
      "13 Polygon(n=8, R=15)\n",
      "6\n",
      "13 Polygon(n=9, R=15)\n"
     ]
    },
    {
     "data": {
      "text/plain": [
       "(Polygon(n=3, R=15),\n",
       " Polygon(n=4, R=15),\n",
       " Polygon(n=5, R=15),\n",
       " Polygon(n=6, R=15),\n",
       " Polygon(n=7, R=15),\n",
       " Polygon(n=8, R=15),\n",
       " Polygon(n=9, R=15))"
      ]
     },
     "execution_count": 20,
     "metadata": {},
     "output_type": "execute_result"
    }
   ],
   "source": [
    "\n",
    "next(pp),next(pp),next(pp),next(pp),next(pp),next(pp),next(pp)"
   ]
  },
  {
   "cell_type": "code",
   "execution_count": 21,
   "metadata": {},
   "outputs": [
    {
     "name": "stdout",
     "output_type": "stream",
     "text": [
      "7\n",
      "13 Polygon(n=10, R=15)\n",
      "8\n",
      "13 Polygon(n=11, R=15)\n",
      "9\n",
      "13 Polygon(n=12, R=15)\n",
      "10\n"
     ]
    },
    {
     "data": {
      "text/plain": [
       "[Polygon(n=10, R=15), Polygon(n=11, R=15), Polygon(n=12, R=15)]"
      ]
     },
     "execution_count": 21,
     "metadata": {},
     "output_type": "execute_result"
    }
   ],
   "source": [
    "list(pp)"
   ]
  },
  {
   "cell_type": "code",
   "execution_count": null,
   "metadata": {},
   "outputs": [],
   "source": []
  }
 ],
 "metadata": {
  "kernelspec": {
   "display_name": "Python 3",
   "language": "python",
   "name": "python3"
  },
  "language_info": {
   "codemirror_mode": {
    "name": "ipython",
    "version": 3
   },
   "file_extension": ".py",
   "mimetype": "text/x-python",
   "name": "python",
   "nbconvert_exporter": "python",
   "pygments_lexer": "ipython3",
   "version": "3.6.5"
  }
 },
 "nbformat": 4,
 "nbformat_minor": 2
}
